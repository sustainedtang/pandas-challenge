{
 "cells": [
  {
   "cell_type": "markdown",
   "metadata": {},
   "source": [
    "Bryan Tang 04/08/2021 UCD Coding Bootcamp\n",
    "## Observations of Data Trends \n",
    "\n",
    "Looking at the data, the largest demographic of players by Gender are Men under the age of 30, while also being the largest source of income by Gender. I see that group consistently being the target demographic.\n",
    "\n",
    "The largest source of income by Age regardless of gender is the age group 20-24.\n",
    "For further analysis I would like to see a breakdown of spending by Age Group and Gender, but also a breakdown of exactly what kind of items each demographic is purchasing for marketing purposes. \n",
    "\n",
    "\n",
    "\n",
    "\n",
    "\n"
   ]
  },
  {
   "cell_type": "code",
   "execution_count": 653,
   "metadata": {},
   "outputs": [
    {
     "output_type": "execute_result",
     "data": {
      "text/plain": [
       "     Purchase ID             SN  Age  Gender  Item ID  \\\n",
       "0              0        Lisim78   20    Male      108   \n",
       "1              1    Lisovynya38   40    Male      143   \n",
       "2              2     Ithergue48   24    Male       92   \n",
       "3              3  Chamassasya86   24    Male      100   \n",
       "4              4      Iskosia90   23    Male      131   \n",
       "..           ...            ...  ...     ...      ...   \n",
       "775          775     Aethedru70   21  Female       60   \n",
       "776          776         Iral74   21    Male      164   \n",
       "777          777     Yathecal72   20    Male       67   \n",
       "778          778        Sisur91    7    Male       92   \n",
       "779          779      Ennrian78   24    Male       50   \n",
       "\n",
       "                                     Item Name  Price  \n",
       "0    Extraction, Quickblade Of Trembling Hands   3.53  \n",
       "1                            Frenzied Scimitar   1.56  \n",
       "2                                 Final Critic   4.88  \n",
       "3                                  Blindscythe   3.27  \n",
       "4                                         Fury   1.44  \n",
       "..                                         ...    ...  \n",
       "775                                       Wolf   3.54  \n",
       "776                           Exiled Doomblade   1.63  \n",
       "777      Celeste, Incarnation of the Corrupted   3.46  \n",
       "778                               Final Critic   4.19  \n",
       "779                                       Dawn   4.60  \n",
       "\n",
       "[780 rows x 7 columns]"
      ],
      "text/html": "<div>\n<style scoped>\n    .dataframe tbody tr th:only-of-type {\n        vertical-align: middle;\n    }\n\n    .dataframe tbody tr th {\n        vertical-align: top;\n    }\n\n    .dataframe thead th {\n        text-align: right;\n    }\n</style>\n<table border=\"1\" class=\"dataframe\">\n  <thead>\n    <tr style=\"text-align: right;\">\n      <th></th>\n      <th>Purchase ID</th>\n      <th>SN</th>\n      <th>Age</th>\n      <th>Gender</th>\n      <th>Item ID</th>\n      <th>Item Name</th>\n      <th>Price</th>\n    </tr>\n  </thead>\n  <tbody>\n    <tr>\n      <th>0</th>\n      <td>0</td>\n      <td>Lisim78</td>\n      <td>20</td>\n      <td>Male</td>\n      <td>108</td>\n      <td>Extraction, Quickblade Of Trembling Hands</td>\n      <td>3.53</td>\n    </tr>\n    <tr>\n      <th>1</th>\n      <td>1</td>\n      <td>Lisovynya38</td>\n      <td>40</td>\n      <td>Male</td>\n      <td>143</td>\n      <td>Frenzied Scimitar</td>\n      <td>1.56</td>\n    </tr>\n    <tr>\n      <th>2</th>\n      <td>2</td>\n      <td>Ithergue48</td>\n      <td>24</td>\n      <td>Male</td>\n      <td>92</td>\n      <td>Final Critic</td>\n      <td>4.88</td>\n    </tr>\n    <tr>\n      <th>3</th>\n      <td>3</td>\n      <td>Chamassasya86</td>\n      <td>24</td>\n      <td>Male</td>\n      <td>100</td>\n      <td>Blindscythe</td>\n      <td>3.27</td>\n    </tr>\n    <tr>\n      <th>4</th>\n      <td>4</td>\n      <td>Iskosia90</td>\n      <td>23</td>\n      <td>Male</td>\n      <td>131</td>\n      <td>Fury</td>\n      <td>1.44</td>\n    </tr>\n    <tr>\n      <th>...</th>\n      <td>...</td>\n      <td>...</td>\n      <td>...</td>\n      <td>...</td>\n      <td>...</td>\n      <td>...</td>\n      <td>...</td>\n    </tr>\n    <tr>\n      <th>775</th>\n      <td>775</td>\n      <td>Aethedru70</td>\n      <td>21</td>\n      <td>Female</td>\n      <td>60</td>\n      <td>Wolf</td>\n      <td>3.54</td>\n    </tr>\n    <tr>\n      <th>776</th>\n      <td>776</td>\n      <td>Iral74</td>\n      <td>21</td>\n      <td>Male</td>\n      <td>164</td>\n      <td>Exiled Doomblade</td>\n      <td>1.63</td>\n    </tr>\n    <tr>\n      <th>777</th>\n      <td>777</td>\n      <td>Yathecal72</td>\n      <td>20</td>\n      <td>Male</td>\n      <td>67</td>\n      <td>Celeste, Incarnation of the Corrupted</td>\n      <td>3.46</td>\n    </tr>\n    <tr>\n      <th>778</th>\n      <td>778</td>\n      <td>Sisur91</td>\n      <td>7</td>\n      <td>Male</td>\n      <td>92</td>\n      <td>Final Critic</td>\n      <td>4.19</td>\n    </tr>\n    <tr>\n      <th>779</th>\n      <td>779</td>\n      <td>Ennrian78</td>\n      <td>24</td>\n      <td>Male</td>\n      <td>50</td>\n      <td>Dawn</td>\n      <td>4.60</td>\n    </tr>\n  </tbody>\n</table>\n<p>780 rows × 7 columns</p>\n</div>"
     },
     "metadata": {},
     "execution_count": 653
    }
   ],
   "source": [
    "# Dependencies and Setup\n",
    "import pandas as pd\n",
    "import numpy as np\n",
    "\n",
    "# File to Load (Remember to Change These)\n",
    "file_to_load = \"Resources/purchase_data.csv\"\n",
    "\n",
    "# Read Purchasing File and store into Pandas data frame\n",
    "purchase_data = pd.read_csv(file_to_load)\n",
    "purchase_data.head(None)"
   ]
  },
  {
   "cell_type": "markdown",
   "metadata": {},
   "source": [
    "## Player Count"
   ]
  },
  {
   "cell_type": "markdown",
   "metadata": {},
   "source": [
    " Display the total number of players\n"
   ]
  },
  {
   "cell_type": "code",
   "execution_count": 654,
   "metadata": {},
   "outputs": [
    {
     "output_type": "stream",
     "name": "stdout",
     "text": [
      "Total Number of Unique Players: 576\n"
     ]
    },
    {
     "output_type": "execute_result",
     "data": {
      "text/plain": [
       "                SN  Age  Gender  Price\n",
       "0          Lisim78   20    Male   3.53\n",
       "1      Lisovynya38   40    Male   1.56\n",
       "2       Ithergue48   24    Male   4.88\n",
       "3    Chamassasya86   24    Male   3.27\n",
       "4        Iskosia90   23    Male   1.44\n",
       "..             ...  ...     ...    ...\n",
       "571         Hala31   21    Male   1.02\n",
       "572     Jiskjask80   11    Male   4.19\n",
       "573     Aethedru70   21  Female   3.54\n",
       "574     Yathecal72   20    Male   3.46\n",
       "575        Sisur91    7    Male   4.19\n",
       "\n",
       "[576 rows x 4 columns]"
      ],
      "text/html": "<div>\n<style scoped>\n    .dataframe tbody tr th:only-of-type {\n        vertical-align: middle;\n    }\n\n    .dataframe tbody tr th {\n        vertical-align: top;\n    }\n\n    .dataframe thead th {\n        text-align: right;\n    }\n</style>\n<table border=\"1\" class=\"dataframe\">\n  <thead>\n    <tr style=\"text-align: right;\">\n      <th></th>\n      <th>SN</th>\n      <th>Age</th>\n      <th>Gender</th>\n      <th>Price</th>\n    </tr>\n  </thead>\n  <tbody>\n    <tr>\n      <th>0</th>\n      <td>Lisim78</td>\n      <td>20</td>\n      <td>Male</td>\n      <td>3.53</td>\n    </tr>\n    <tr>\n      <th>1</th>\n      <td>Lisovynya38</td>\n      <td>40</td>\n      <td>Male</td>\n      <td>1.56</td>\n    </tr>\n    <tr>\n      <th>2</th>\n      <td>Ithergue48</td>\n      <td>24</td>\n      <td>Male</td>\n      <td>4.88</td>\n    </tr>\n    <tr>\n      <th>3</th>\n      <td>Chamassasya86</td>\n      <td>24</td>\n      <td>Male</td>\n      <td>3.27</td>\n    </tr>\n    <tr>\n      <th>4</th>\n      <td>Iskosia90</td>\n      <td>23</td>\n      <td>Male</td>\n      <td>1.44</td>\n    </tr>\n    <tr>\n      <th>...</th>\n      <td>...</td>\n      <td>...</td>\n      <td>...</td>\n      <td>...</td>\n    </tr>\n    <tr>\n      <th>571</th>\n      <td>Hala31</td>\n      <td>21</td>\n      <td>Male</td>\n      <td>1.02</td>\n    </tr>\n    <tr>\n      <th>572</th>\n      <td>Jiskjask80</td>\n      <td>11</td>\n      <td>Male</td>\n      <td>4.19</td>\n    </tr>\n    <tr>\n      <th>573</th>\n      <td>Aethedru70</td>\n      <td>21</td>\n      <td>Female</td>\n      <td>3.54</td>\n    </tr>\n    <tr>\n      <th>574</th>\n      <td>Yathecal72</td>\n      <td>20</td>\n      <td>Male</td>\n      <td>3.46</td>\n    </tr>\n    <tr>\n      <th>575</th>\n      <td>Sisur91</td>\n      <td>7</td>\n      <td>Male</td>\n      <td>4.19</td>\n    </tr>\n  </tbody>\n</table>\n<p>576 rows × 4 columns</p>\n</div>"
     },
     "metadata": {},
     "execution_count": 654
    }
   ],
   "source": [
    "#total_players_count = purchase_data[\"SN\"].value_counts()\n",
    "#total_players = len(total_players_count)\n",
    "#total_players_count.head()\n",
    "unique_players = purchase_data.drop_duplicates(subset=['SN'])\n",
    "unique_players = unique_players[[\"SN\", \"Age\", \"Gender\", \"Price\"]]\n",
    "unique_players.reset_index(drop=True, inplace=True)\n",
    "total_players = len(unique_players)\n",
    "print(f'Total Number of Unique Players: {total_unique}')\n",
    "unique_players.head(None)"
   ]
  },
  {
   "cell_type": "markdown",
   "metadata": {},
   "source": [
    "## Purchasing Analysis (Total)"
   ]
  },
  {
   "cell_type": "markdown",
   "metadata": {},
   "source": [
    "* Run basic calculations to obtain number of unique items, average price, etc.\n",
    "\n",
    "\n",
    "* Create a summary data frame to hold the results\n",
    "\n",
    "\n",
    "* Optional: give the displayed data cleaner formatting\n",
    "\n",
    "\n",
    "* Display the summary data frame\n"
   ]
  },
  {
   "cell_type": "code",
   "execution_count": 655,
   "metadata": {
    "scrolled": true
   },
   "outputs": [
    {
     "output_type": "execute_result",
     "data": {
      "text/plain": [
       "   Number of Unique Items  Average Price  Total Revenue  Number of Purchases\n",
       "0                     179       3.050987        2379.77                  780"
      ],
      "text/html": "<div>\n<style scoped>\n    .dataframe tbody tr th:only-of-type {\n        vertical-align: middle;\n    }\n\n    .dataframe tbody tr th {\n        vertical-align: top;\n    }\n\n    .dataframe thead th {\n        text-align: right;\n    }\n</style>\n<table border=\"1\" class=\"dataframe\">\n  <thead>\n    <tr style=\"text-align: right;\">\n      <th></th>\n      <th>Number of Unique Items</th>\n      <th>Average Price</th>\n      <th>Total Revenue</th>\n      <th>Number of Purchases</th>\n    </tr>\n  </thead>\n  <tbody>\n    <tr>\n      <th>0</th>\n      <td>179</td>\n      <td>3.050987</td>\n      <td>2379.77</td>\n      <td>780</td>\n    </tr>\n  </tbody>\n</table>\n</div>"
     },
     "metadata": {},
     "execution_count": 655
    }
   ],
   "source": [
    "#Calculations for number of unique items, average price, total number of purchases, total revenue\n",
    "purchase_count = purchase_data[\"Price\"].count()\n",
    "average_price = purchase_data[\"Price\"].mean()\n",
    "unique_items = len(purchase_data[\"Item Name\"].unique())\n",
    "sum_price = purchase_data[\"Price\"].sum()\n",
    "\n",
    "purchase_table = pd.DataFrame({\n",
    "    \"Number of Unique Items\": [unique_items],\n",
    "    \"Average Price\": [average_price],\n",
    "    \"Total Revenue\": [sum_price],\n",
    "    \"Number of Purchases\": [purchase_count],}, )\n",
    "\n",
    "purchase_table.head()\n"
   ]
  },
  {
   "cell_type": "markdown",
   "metadata": {},
   "source": [
    "## Gender Demographics"
   ]
  },
  {
   "cell_type": "markdown",
   "metadata": {},
   "source": [
    "* Percentage and Count of Male Players\n",
    "\n",
    "\n",
    "* Percentage and Count of Female Players\n",
    "\n",
    "\n",
    "* Percentage and Count of Other / Non-Disclosed\n",
    "\n",
    "\n"
   ]
  },
  {
   "cell_type": "code",
   "execution_count": 847,
   "metadata": {},
   "outputs": [
    {
     "output_type": "execute_result",
     "data": {
      "text/plain": [
       "                       Total Players by Gender Percentage Players by Gender\n",
       "Male                                       484                       84.03%\n",
       "Female                                      81                       14.06%\n",
       "Other / Non-Disclosed                       11                        1.91%"
      ],
      "text/html": "<div>\n<style scoped>\n    .dataframe tbody tr th:only-of-type {\n        vertical-align: middle;\n    }\n\n    .dataframe tbody tr th {\n        vertical-align: top;\n    }\n\n    .dataframe thead th {\n        text-align: right;\n    }\n</style>\n<table border=\"1\" class=\"dataframe\">\n  <thead>\n    <tr style=\"text-align: right;\">\n      <th></th>\n      <th>Total Players by Gender</th>\n      <th>Percentage Players by Gender</th>\n    </tr>\n  </thead>\n  <tbody>\n    <tr>\n      <th>Male</th>\n      <td>484</td>\n      <td>84.03%</td>\n    </tr>\n    <tr>\n      <th>Female</th>\n      <td>81</td>\n      <td>14.06%</td>\n    </tr>\n    <tr>\n      <th>Other / Non-Disclosed</th>\n      <td>11</td>\n      <td>1.91%</td>\n    </tr>\n  </tbody>\n</table>\n</div>"
     },
     "metadata": {},
     "execution_count": 847
    }
   ],
   "source": [
    "#Value Counts for gender\n",
    "\n",
    "gender_up = unique_players['Gender'].value_counts()\n",
    "gender_percents = (gender_up / total_players).map(\"{:.2%}\".format)\n",
    "#Assign values to variables for calculation\n",
    "male_count = gender_up[0]\n",
    "female_count = gender_up[1]\n",
    "other_count = gender_up[2]\n",
    "\n",
    "male_percent = (male_count / total_players)\n",
    "other_percent =  (other_count / total_players) \n",
    "female_percent = (female_count / total_players) \n",
    "\n",
    "\n",
    "gender_count_summary = pd.DataFrame({\n",
    "    \"Total Players by Gender\": gender_up,\n",
    "    \"Percentage Players by Gender\": gender_percents,\n",
    "    \n",
    "    })\n",
    "gender_count_summary\n"
   ]
  },
  {
   "cell_type": "markdown",
   "metadata": {},
   "source": [
    "\n",
    "## Purchasing Analysis (Gender)"
   ]
  },
  {
   "cell_type": "markdown",
   "metadata": {},
   "source": [
    "* Run basic calculations to obtain purchase count, avg. purchase price, avg. purchase total per person etc. by gender\n",
    "\n",
    "\n",
    "\n",
    "\n",
    "* Create a summary data frame to hold the results\n",
    "\n",
    "\n",
    "* Optional: give the displayed data cleaner formatting\n",
    "\n",
    "\n",
    "* Display the summary data frame"
   ]
  },
  {
   "cell_type": "code",
   "execution_count": 817,
   "metadata": {},
   "outputs": [
    {
     "output_type": "execute_result",
     "data": {
      "text/plain": [
       "                       Total Purchases Purchase Avg Total Purchase Value  \\\n",
       "Gender                                                                     \n",
       "Female                             113         $3.2              $361.94   \n",
       "Male                               652        $3.02             $1967.64   \n",
       "Other / Non-Disclosed               15        $3.35               $50.19   \n",
       "\n",
       "                      Avg Purchase per Person  \n",
       "Gender                                         \n",
       "Female                                  $4.47  \n",
       "Male                                    $4.07  \n",
       "Other / Non-Disclosed                   $4.56  "
      ],
      "text/html": "<div>\n<style scoped>\n    .dataframe tbody tr th:only-of-type {\n        vertical-align: middle;\n    }\n\n    .dataframe tbody tr th {\n        vertical-align: top;\n    }\n\n    .dataframe thead th {\n        text-align: right;\n    }\n</style>\n<table border=\"1\" class=\"dataframe\">\n  <thead>\n    <tr style=\"text-align: right;\">\n      <th></th>\n      <th>Total Purchases</th>\n      <th>Purchase Avg</th>\n      <th>Total Purchase Value</th>\n      <th>Avg Purchase per Person</th>\n    </tr>\n    <tr>\n      <th>Gender</th>\n      <th></th>\n      <th></th>\n      <th></th>\n      <th></th>\n    </tr>\n  </thead>\n  <tbody>\n    <tr>\n      <th>Female</th>\n      <td>113</td>\n      <td>$3.2</td>\n      <td>$361.94</td>\n      <td>$4.47</td>\n    </tr>\n    <tr>\n      <th>Male</th>\n      <td>652</td>\n      <td>$3.02</td>\n      <td>$1967.64</td>\n      <td>$4.07</td>\n    </tr>\n    <tr>\n      <th>Other / Non-Disclosed</th>\n      <td>15</td>\n      <td>$3.35</td>\n      <td>$50.19</td>\n      <td>$4.56</td>\n    </tr>\n  </tbody>\n</table>\n</div>"
     },
     "metadata": {},
     "execution_count": 817
    }
   ],
   "source": [
    "#By Gender: Purchase Count, Average Purchase Price, Total Purchase Value, Average Purchase Total per Person by Gender \n",
    "gender_totals = purchase_data.groupby([\"Gender\"]).count()['Price']\n",
    "gender_avg = purchase_data.groupby(['Gender']).mean()['Price']\n",
    "\n",
    "#Per person\n",
    "gender_sum = purchase_data.groupby([\"Gender\"]).sum()['Price']\n",
    "gender_sum2 = purchase_data.groupby([\"SN\"]).sum()['Price']\n",
    "gender_sum3 = ((gender_sum - gender_sum2.min()) / (gender_sum2.max() - gender_sum2.min()))\n",
    "gender_each_avg = gender_sum / gender_count_summary[\"Total Players by Gender\"]\n",
    "\n",
    "gender_purchase_table = pd.DataFrame({\n",
    "    'Total Purchases': gender_totals,\n",
    "    \"Purchase Avg\": gender_avg.map(\"${:.3}\".format), \n",
    "    \"Total Purchase Value\": gender_sum.map(\"${:.6}\".format),\n",
    "    \"Avg Purchase per Person\": gender_each_avg.map(\"${:.3}\".format)\n",
    "  })\n",
    "gender_purchase_table.head()"
   ]
  },
  {
   "cell_type": "markdown",
   "metadata": {},
   "source": [
    "## Age Demographics"
   ]
  },
  {
   "cell_type": "markdown",
   "metadata": {},
   "source": [
    "* Establish bins for ages\n",
    "\n",
    "\n",
    "* Categorize the existing players using the age bins. Hint: use pd.cut()\n",
    "\n",
    "\n",
    "* Calculate the numbers and percentages by age group\n",
    "\n",
    "\n",
    "* Create a summary data frame to hold the results\n",
    "\n",
    "\n",
    "* Optional: round the percentage column to two decimal points\n",
    "\n",
    "\n",
    "* Display Age Demographics Table\n"
   ]
  },
  {
   "cell_type": "code",
   "execution_count": 859,
   "metadata": {},
   "outputs": [
    {
     "output_type": "stream",
     "name": "stdout",
     "text": [
      "Age Demographics Table\n       Total Players by Age Percent Players by Age\n20-24                   258                 44.79%\n15-19                   107                 18.58%\n25-29                    77                 13.37%\n30-34                    52                  9.03%\n35-39                    31                  5.38%\n10-14                    22                  3.82%\n<10                      17                  2.95%\n>40                      12                  2.08%\nGender                 Age Group\nFemale                 20-24         40\n                       15-19         17\n                       25-29          8\n                       30-34          5\n                       <10            4\n                       10-14          3\n                       35-39          3\n                       >40            1\nMale                   20-24        214\n                       15-19         86\n                       25-29         68\n                       30-34         47\n                       35-39         26\n                       10-14         19\n                       <10           13\n                       >40           11\nOther / Non-Disclosed  15-19          4\n                       20-24          4\n                       35-39          2\n                       25-29          1\nName: Age Group, dtype: int64\n"
     ]
    }
   ],
   "source": [
    "age_bins = [0, 9.90, 14.90, 19.90, 24.9, 29.9, 34.90, 39.90, 9999999]\n",
    "#age_range = np.arange(10, 45, 4)\n",
    "group_names = [\"<10\", \"10-14\", \"15-19\", \"20-24\", \"25-29\", \"30-34\", \"35-39\", \">40\"]\n",
    "#Bins for Age Group Purchases, bins for Unique Player Age Group Count\n",
    "purchase_data['Age Group'] = (pd.cut(purchase_data['Age'], age_bins, labels=group_names))\n",
    "unique_players['Age Group'] = (pd.cut(unique_players['Age'], age_bins, labels=group_names))\n",
    "\n",
    "age2 = unique_players['Age Group'].value_counts()\n",
    "agetotal = unique_players['Age Group'].count()\n",
    "agepercent = (age2 / total_players).map(\"{:.2%}\".format)\n",
    "#Summary Table\n",
    "agedemo = pd.DataFrame({\n",
    "    \"Total Players by Age\": age2,\n",
    "    \"Percent Players by Age\": agepercent,\n",
    "    })\n",
    "\n",
    "print(f'Age Demographics Table')\n",
    "agedemo\n",
    "#Age Demographic\n",
    "print(agedemo.head(None))\n",
    "#Extra gender age group breakdown\n",
    "gender_agegroup = unique_players.groupby(['Gender'])\n",
    "gender3 = gender_agegroup['Age Group'].value_counts()\n",
    "print(gender3.head(None))\n"
   ]
  },
  {
   "cell_type": "markdown",
   "metadata": {},
   "source": [
    "## Purchasing Analysis (Age)"
   ]
  },
  {
   "cell_type": "markdown",
   "metadata": {},
   "source": [
    "* Bin the purchase_data data frame by age\n",
    "\n",
    "\n",
    "* Run basic calculations to obtain purchase count, avg. purchase price, avg. purchase total per person etc. in the table below\n",
    "\n",
    "\n",
    "* Create a summary data frame to hold the results\n",
    "\n",
    "\n",
    "* Optional: give the displayed data cleaner formatting\n",
    "\n",
    "\n",
    "* Display the summary data frame"
   ]
  },
  {
   "cell_type": "code",
   "execution_count": 821,
   "metadata": {},
   "outputs": [
    {
     "output_type": "execute_result",
     "data": {
      "text/plain": [
       "       Purchase Count Avg Purchase Price Total Purchase Value  \\\n",
       "<10                23              $3.35               $77.13   \n",
       "10-14              28              $2.96               $82.78   \n",
       "15-19             136              $3.04              $412.89   \n",
       "20-24             365              $3.05             $1114.06   \n",
       "25-29             101               $2.9               $293.0   \n",
       "30-34              73              $2.93               $214.0   \n",
       "35-39              41               $3.6              $147.67   \n",
       ">40                13              $2.94               $38.24   \n",
       "\n",
       "      Avg Purchase Total per Person by Age Group  \n",
       "<10                                        $4.54  \n",
       "10-14                                      $3.76  \n",
       "15-19                                      $3.86  \n",
       "20-24                                      $4.32  \n",
       "25-29                                      $3.81  \n",
       "30-34                                      $4.12  \n",
       "35-39                                      $4.76  \n",
       ">40                                        $3.19  "
      ],
      "text/html": "<div>\n<style scoped>\n    .dataframe tbody tr th:only-of-type {\n        vertical-align: middle;\n    }\n\n    .dataframe tbody tr th {\n        vertical-align: top;\n    }\n\n    .dataframe thead th {\n        text-align: right;\n    }\n</style>\n<table border=\"1\" class=\"dataframe\">\n  <thead>\n    <tr style=\"text-align: right;\">\n      <th></th>\n      <th>Purchase Count</th>\n      <th>Avg Purchase Price</th>\n      <th>Total Purchase Value</th>\n      <th>Avg Purchase Total per Person by Age Group</th>\n    </tr>\n  </thead>\n  <tbody>\n    <tr>\n      <th>&lt;10</th>\n      <td>23</td>\n      <td>$3.35</td>\n      <td>$77.13</td>\n      <td>$4.54</td>\n    </tr>\n    <tr>\n      <th>10-14</th>\n      <td>28</td>\n      <td>$2.96</td>\n      <td>$82.78</td>\n      <td>$3.76</td>\n    </tr>\n    <tr>\n      <th>15-19</th>\n      <td>136</td>\n      <td>$3.04</td>\n      <td>$412.89</td>\n      <td>$3.86</td>\n    </tr>\n    <tr>\n      <th>20-24</th>\n      <td>365</td>\n      <td>$3.05</td>\n      <td>$1114.06</td>\n      <td>$4.32</td>\n    </tr>\n    <tr>\n      <th>25-29</th>\n      <td>101</td>\n      <td>$2.9</td>\n      <td>$293.0</td>\n      <td>$3.81</td>\n    </tr>\n    <tr>\n      <th>30-34</th>\n      <td>73</td>\n      <td>$2.93</td>\n      <td>$214.0</td>\n      <td>$4.12</td>\n    </tr>\n    <tr>\n      <th>35-39</th>\n      <td>41</td>\n      <td>$3.6</td>\n      <td>$147.67</td>\n      <td>$4.76</td>\n    </tr>\n    <tr>\n      <th>&gt;40</th>\n      <td>13</td>\n      <td>$2.94</td>\n      <td>$38.24</td>\n      <td>$3.19</td>\n    </tr>\n  </tbody>\n</table>\n</div>"
     },
     "metadata": {},
     "execution_count": 821
    }
   ],
   "source": [
    "#Calculations for Age Group\n",
    "age_count = purchase_data.groupby('Age Group').count()\n",
    "age_sum = purchase_data.groupby('Age Group').sum()['Price']\n",
    "age_count = purchase_data.groupby('Age Group').count()['Price']\n",
    "age_avg = purchase_data.groupby('Age Group').mean()['Price']\n",
    "age_each_avg = age_sum / age2\n",
    "#Summary Table\n",
    "age_summary = pd.DataFrame({\n",
    "    \"Purchase Count\": age_count,\n",
    "    \"Avg Purchase Price\": age_avg.map(\"${:.3}\".format),\n",
    "    \"Total Purchase Value\": age_sum.map(\"${:.6}\".format),\n",
    "    \"Avg Purchase Total per Person by Age Group\": age_each_avg.map(\"${:.3}\".format)\n",
    "})\n",
    "age_summary.head(None)"
   ]
  },
  {
   "cell_type": "markdown",
   "metadata": {},
   "source": [
    "## Top Spenders"
   ]
  },
  {
   "cell_type": "markdown",
   "metadata": {},
   "source": [
    "* Run basic calculations to obtain the results in the table below\n",
    "\n",
    "\n",
    "* Create a summary data frame to hold the results\n",
    "\n",
    "\n",
    "* Sort the total purchase value column in descending order\n",
    "\n",
    "\n",
    "* Optional: give the displayed data cleaner formatting\n",
    "\n",
    "\n",
    "* Display a preview of the summary data frame\n",
    "\n"
   ]
  },
  {
   "cell_type": "code",
   "execution_count": 739,
   "metadata": {},
   "outputs": [
    {
     "output_type": "execute_result",
     "data": {
      "text/plain": [
       "             Purchase Count  Total Purchase Value Avg Purchase Price\n",
       "SN                                                                  \n",
       "Lisosia93                 5                 18.96              $3.79\n",
       "Idastidru52               4                 15.45              $3.86\n",
       "Chamjask73                3                 13.83              $4.61\n",
       "Iral74                    4                 13.62               $3.4\n",
       "Iskadarya95               3                 13.10              $4.37"
      ],
      "text/html": "<div>\n<style scoped>\n    .dataframe tbody tr th:only-of-type {\n        vertical-align: middle;\n    }\n\n    .dataframe tbody tr th {\n        vertical-align: top;\n    }\n\n    .dataframe thead th {\n        text-align: right;\n    }\n</style>\n<table border=\"1\" class=\"dataframe\">\n  <thead>\n    <tr style=\"text-align: right;\">\n      <th></th>\n      <th>Purchase Count</th>\n      <th>Total Purchase Value</th>\n      <th>Avg Purchase Price</th>\n    </tr>\n    <tr>\n      <th>SN</th>\n      <th></th>\n      <th></th>\n      <th></th>\n    </tr>\n  </thead>\n  <tbody>\n    <tr>\n      <th>Lisosia93</th>\n      <td>5</td>\n      <td>18.96</td>\n      <td>$3.79</td>\n    </tr>\n    <tr>\n      <th>Idastidru52</th>\n      <td>4</td>\n      <td>15.45</td>\n      <td>$3.86</td>\n    </tr>\n    <tr>\n      <th>Chamjask73</th>\n      <td>3</td>\n      <td>13.83</td>\n      <td>$4.61</td>\n    </tr>\n    <tr>\n      <th>Iral74</th>\n      <td>4</td>\n      <td>13.62</td>\n      <td>$3.4</td>\n    </tr>\n    <tr>\n      <th>Iskadarya95</th>\n      <td>3</td>\n      <td>13.10</td>\n      <td>$4.37</td>\n    </tr>\n  </tbody>\n</table>\n</div>"
     },
     "metadata": {},
     "execution_count": 739
    }
   ],
   "source": [
    "spender_total = purchase_data.groupby('SN').sum()['Price']\n",
    "spender_count = purchase_data.groupby('SN').count()['Price']\n",
    "spender_avg = purchase_data.groupby('SN').mean()['Price'].map(\"${:.3}\".format)\n",
    "\n",
    "\n",
    "sorted_spender = pd.DataFrame({\n",
    "    \"Purchase Count\": spender_count,\n",
    "    \"Total Purchase Value\": spender_total,\n",
    "    \"Avg Purchase Price\": spender_avg,\n",
    "      \n",
    "})\n",
    "sorted_spender.sort_values(\"Total Purchase Value\", ascending=False).head(5)\n",
    "\n"
   ]
  },
  {
   "cell_type": "markdown",
   "metadata": {},
   "source": [
    "## Most Popular Items"
   ]
  },
  {
   "cell_type": "markdown",
   "metadata": {},
   "source": [
    "* Retrieve the Item ID, Item Name, and Item Price columns\n",
    "\n",
    "\n",
    "* Group by Item ID and Item Name. Perform calculations to obtain purchase count, average item price, and total purchase value\n",
    "\n",
    "\n",
    "* Create a summary data frame to hold the results\n",
    "\n",
    "\n",
    "* Sort the purchase count column in descending order\n",
    "\n",
    "\n",
    "* Optional: give the displayed data cleaner formatting\n",
    "\n",
    "\n",
    "* Display a preview of the summary data frame\n",
    "\n"
   ]
  },
  {
   "cell_type": "code",
   "execution_count": 810,
   "metadata": {},
   "outputs": [
    {
     "output_type": "execute_result",
     "data": {
      "text/plain": [
       "                                                      Purchase Count  \\\n",
       "Item ID Item Name                                                      \n",
       "92      Final Critic                                              13   \n",
       "178     Oathbreaker, Last Hope of the Breaking Storm              12   \n",
       "145     Fiery Glass Crusader                                       9   \n",
       "132     Persuasion                                                 9   \n",
       "108     Extraction, Quickblade Of Trembling Hands                  9   \n",
       "\n",
       "                                                      Total Purchase Value  \\\n",
       "Item ID Item Name                                                            \n",
       "92      Final Critic                                                 59.99   \n",
       "178     Oathbreaker, Last Hope of the Breaking Storm                 50.76   \n",
       "145     Fiery Glass Crusader                                         41.22   \n",
       "132     Persuasion                                                   28.99   \n",
       "108     Extraction, Quickblade Of Trembling Hands                    31.77   \n",
       "\n",
       "                                                      Price  \n",
       "Item ID Item Name                                            \n",
       "92      Final Critic                                  $4.61  \n",
       "178     Oathbreaker, Last Hope of the Breaking Storm  $4.23  \n",
       "145     Fiery Glass Crusader                          $4.58  \n",
       "132     Persuasion                                    $3.22  \n",
       "108     Extraction, Quickblade Of Trembling Hands     $3.53  "
      ],
      "text/html": "<div>\n<style scoped>\n    .dataframe tbody tr th:only-of-type {\n        vertical-align: middle;\n    }\n\n    .dataframe tbody tr th {\n        vertical-align: top;\n    }\n\n    .dataframe thead th {\n        text-align: right;\n    }\n</style>\n<table border=\"1\" class=\"dataframe\">\n  <thead>\n    <tr style=\"text-align: right;\">\n      <th></th>\n      <th></th>\n      <th>Purchase Count</th>\n      <th>Total Purchase Value</th>\n      <th>Price</th>\n    </tr>\n    <tr>\n      <th>Item ID</th>\n      <th>Item Name</th>\n      <th></th>\n      <th></th>\n      <th></th>\n    </tr>\n  </thead>\n  <tbody>\n    <tr>\n      <th>92</th>\n      <th>Final Critic</th>\n      <td>13</td>\n      <td>59.99</td>\n      <td>$4.61</td>\n    </tr>\n    <tr>\n      <th>178</th>\n      <th>Oathbreaker, Last Hope of the Breaking Storm</th>\n      <td>12</td>\n      <td>50.76</td>\n      <td>$4.23</td>\n    </tr>\n    <tr>\n      <th>145</th>\n      <th>Fiery Glass Crusader</th>\n      <td>9</td>\n      <td>41.22</td>\n      <td>$4.58</td>\n    </tr>\n    <tr>\n      <th>132</th>\n      <th>Persuasion</th>\n      <td>9</td>\n      <td>28.99</td>\n      <td>$3.22</td>\n    </tr>\n    <tr>\n      <th>108</th>\n      <th>Extraction, Quickblade Of Trembling Hands</th>\n      <td>9</td>\n      <td>31.77</td>\n      <td>$3.53</td>\n    </tr>\n  </tbody>\n</table>\n</div>"
     },
     "metadata": {},
     "execution_count": 810
    }
   ],
   "source": [
    "\n",
    "#spender_count = purchase_data.groupby('SN').count()['Price']\n",
    "item_count = purchase_data.groupby(['Item ID', 'Item Name',]).count()['Price']\n",
    "item_total = purchase_data.groupby(['Item ID','Item Name']).sum()['Price']\n",
    "item_price = purchase_data.groupby(['Item ID', 'Item Name']).mean()['Price'].map(\"${:.3}\".format)\n",
    "sorted_items = pd.DataFrame({\n",
    "    \"Purchase Count\": item_count,\n",
    "    \"Total Purchase Value\": item_total,\n",
    "    \"Price\": item_price\n",
    "    \n",
    "})\n",
    "sorted_items.sort_values(\"Purchase Count\", ascending=False).head()\n"
   ]
  },
  {
   "cell_type": "markdown",
   "metadata": {},
   "source": [
    "## Most Profitable Items"
   ]
  },
  {
   "cell_type": "markdown",
   "metadata": {},
   "source": [
    "* Sort the above table by total purchase value in descending order\n",
    "\n",
    "\n",
    "* Optional: give the displayed data cleaner formatting\n",
    "\n",
    "\n",
    "* Display a preview of the data frame\n",
    "\n"
   ]
  },
  {
   "cell_type": "code",
   "execution_count": 812,
   "metadata": {
    "scrolled": true
   },
   "outputs": [
    {
     "output_type": "execute_result",
     "data": {
      "text/plain": [
       "                                                      Purchase Count  \\\n",
       "Item ID Item Name                                                      \n",
       "92      Final Critic                                              13   \n",
       "178     Oathbreaker, Last Hope of the Breaking Storm              12   \n",
       "82      Nirvana                                                    9   \n",
       "145     Fiery Glass Crusader                                       9   \n",
       "103     Singed Scalpel                                             8   \n",
       "\n",
       "                                                      Total Purchase Value  \\\n",
       "Item ID Item Name                                                            \n",
       "92      Final Critic                                                 59.99   \n",
       "178     Oathbreaker, Last Hope of the Breaking Storm                 50.76   \n",
       "82      Nirvana                                                      44.10   \n",
       "145     Fiery Glass Crusader                                         41.22   \n",
       "103     Singed Scalpel                                               34.80   \n",
       "\n",
       "                                                      Price  \n",
       "Item ID Item Name                                            \n",
       "92      Final Critic                                  $4.61  \n",
       "178     Oathbreaker, Last Hope of the Breaking Storm  $4.23  \n",
       "82      Nirvana                                        $4.9  \n",
       "145     Fiery Glass Crusader                          $4.58  \n",
       "103     Singed Scalpel                                $4.35  "
      ],
      "text/html": "<div>\n<style scoped>\n    .dataframe tbody tr th:only-of-type {\n        vertical-align: middle;\n    }\n\n    .dataframe tbody tr th {\n        vertical-align: top;\n    }\n\n    .dataframe thead th {\n        text-align: right;\n    }\n</style>\n<table border=\"1\" class=\"dataframe\">\n  <thead>\n    <tr style=\"text-align: right;\">\n      <th></th>\n      <th></th>\n      <th>Purchase Count</th>\n      <th>Total Purchase Value</th>\n      <th>Price</th>\n    </tr>\n    <tr>\n      <th>Item ID</th>\n      <th>Item Name</th>\n      <th></th>\n      <th></th>\n      <th></th>\n    </tr>\n  </thead>\n  <tbody>\n    <tr>\n      <th>92</th>\n      <th>Final Critic</th>\n      <td>13</td>\n      <td>59.99</td>\n      <td>$4.61</td>\n    </tr>\n    <tr>\n      <th>178</th>\n      <th>Oathbreaker, Last Hope of the Breaking Storm</th>\n      <td>12</td>\n      <td>50.76</td>\n      <td>$4.23</td>\n    </tr>\n    <tr>\n      <th>82</th>\n      <th>Nirvana</th>\n      <td>9</td>\n      <td>44.10</td>\n      <td>$4.9</td>\n    </tr>\n    <tr>\n      <th>145</th>\n      <th>Fiery Glass Crusader</th>\n      <td>9</td>\n      <td>41.22</td>\n      <td>$4.58</td>\n    </tr>\n    <tr>\n      <th>103</th>\n      <th>Singed Scalpel</th>\n      <td>8</td>\n      <td>34.80</td>\n      <td>$4.35</td>\n    </tr>\n  </tbody>\n</table>\n</div>"
     },
     "metadata": {},
     "execution_count": 812
    }
   ],
   "source": [
    "sorted_items.sort_values(\"Total Purchase Value\", ascending=False).head(5)"
   ]
  },
  {
   "cell_type": "code",
   "execution_count": null,
   "metadata": {},
   "outputs": [],
   "source": []
  }
 ],
 "metadata": {
  "anaconda-cloud": {},
  "kernel_info": {
   "name": "python3"
  },
  "kernelspec": {
   "name": "python3610jvsc74a57bd0b432461d0a0115d0c9d901da8da6cafa7da0264c25770543bb182d5a47b20b85",
   "display_name": "Python 3.6.10 64-bit ('PythonData': conda)"
  },
  "language_info": {
   "codemirror_mode": {
    "name": "ipython",
    "version": 3
   },
   "file_extension": ".py",
   "mimetype": "text/x-python",
   "name": "python",
   "nbconvert_exporter": "python",
   "pygments_lexer": "ipython3",
   "version": "3.6.10-final"
  },
  "latex_envs": {
   "LaTeX_envs_menu_present": true,
   "autoclose": false,
   "autocomplete": true,
   "bibliofile": "biblio.bib",
   "cite_by": "apalike",
   "current_citInitial": 1,
   "eqLabelWithNumbers": true,
   "eqNumInitial": 1,
   "hotkeys": {
    "equation": "Ctrl-E",
    "itemize": "Ctrl-I"
   },
   "labels_anchors": false,
   "latex_user_defs": false,
   "report_style_numbering": false,
   "user_envs_cfg": false
  },
  "nteract": {
   "version": "0.2.0"
  }
 },
 "nbformat": 4,
 "nbformat_minor": 2
}